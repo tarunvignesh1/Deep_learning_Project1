{
 "metadata": {
  "language_info": {
   "codemirror_mode": {
    "name": "ipython",
    "version": 3
   },
   "file_extension": ".py",
   "mimetype": "text/x-python",
   "name": "python",
   "nbconvert_exporter": "python",
   "pygments_lexer": "ipython3",
   "version": "3.8.10"
  },
  "orig_nbformat": 4,
  "kernelspec": {
   "name": "python3",
   "display_name": "Python 3.8.10 64-bit ('DLenv': conda)"
  },
  "interpreter": {
   "hash": "3e31805f4f86d574c4bb9358e0175b253c435df9218e00d290f037434fc3f8fc"
  }
 },
 "nbformat": 4,
 "nbformat_minor": 2,
 "cells": [
  {
   "cell_type": "code",
   "execution_count": 2,
   "metadata": {},
   "outputs": [
    {
     "output_type": "stream",
     "name": "stdout",
     "text": [
      "CUDA is available!  Training on GPU ...\n"
     ]
    }
   ],
   "source": [
    "import torch\n",
    "\n",
    "\n",
    "#Checking for availablilty of CUDA\n",
    "train_on_gpu = torch.cuda.is_available()\n",
    "\n",
    "if not train_on_gpu:\n",
    "    print('CUDA is not available.  Training on CPU ...')\n",
    "else:\n",
    "    print('CUDA is available!  Training on GPU ...')"
   ]
  },
  {
   "cell_type": "code",
   "execution_count": 3,
   "metadata": {},
   "outputs": [
    {
     "output_type": "stream",
     "name": "stderr",
     "text": [
      "Copying files: 7553 files [00:11, 633.86 files/s]\n"
     ]
    }
   ],
   "source": [
    "import os\n",
    "import numpy as np\n",
    "import torchvision\n",
    "from torchvision import models, datasets, transforms\n",
    "import matplotlib.pyplot as plt\n",
    "import splitfolders\n",
    "\n",
    "\n",
    "datapath = 'D:\\TarunDocs\\Kaggle\\data'\n",
    "\n",
    "\n",
    "splitfolders.ratio(datapath, output=\"D:\\TarunDocs\\Kaggle\\data\\splited\", seed=1337, ratio=(.8, .1, .1), group_prefix=None)\n",
    "\n",
    "\n",
    "Newpath = 'D:/TarunDocs/Kaggle/data/splited'\n",
    "\n",
    "trainpath = os.path.join(Newpath,'train/')\n",
    "valpath = os.path.join(Newpath,'val/')\n",
    "testpath = os.path.join(Newpath,'test/')"
   ]
  },
  {
   "cell_type": "code",
   "execution_count": null,
   "metadata": {},
   "outputs": [],
   "source": []
  }
 ]
}